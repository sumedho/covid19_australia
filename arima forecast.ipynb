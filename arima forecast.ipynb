{
 "cells": [
  {
   "cell_type": "code",
   "execution_count": 1,
   "metadata": {},
   "outputs": [],
   "source": [
    "import pandas as pd\n",
    "import numpy as np\n",
    "import matplotlib.pyplot as plt\n",
    "from pandas.plotting import register_matplotlib_converters\n",
    "import statsmodels.api as sm\n",
    "import itertools\n",
    "\n",
    "%matplotlib inline\n",
    "register_matplotlib_converters()\n",
    "plt.style.use('ggplot')"
   ]
  },
  {
   "cell_type": "code",
   "execution_count": 10,
   "metadata": {},
   "outputs": [],
   "source": [
    "df = pd.read_csv('au_total.csv')\n",
    "#df = df.iloc[:-1]\n",
    "df.index = pd.DatetimeIndex(df.date.values, dayfirst=True)#.to_period('d')\n",
    "df.drop('date', inplace=True, axis=1)\n",
    "df['days'] = np.arange(0, df.shape[0])\n",
    "\n",
    "df['log_confirmed'] = np.log(df.confirmed)\n",
    "df['log_deaths'] = np.log(df.deaths)\n",
    "\n",
    "# calculate % change (growth)\n",
    "df['case_growth'] = df['confirmed'].pct_change() * 100\n",
    "\n",
    "# calculate doubling time\n",
    "# https://en.wikipedia.org/wiki/Doubling_time\n",
    "df['case_dble_time'] = 70/df['case_growth']\n",
    "\n",
    "# calculate % change (growth)\n",
    "df['death_growth'] = df['deaths'].pct_change() * 100\n",
    "# calculate doubling time\n",
    "df['death_dble_time'] = 70/df['death_growth']"
   ]
  },
  {
   "cell_type": "code",
   "execution_count": 80,
   "metadata": {},
   "outputs": [],
   "source": [
    "# fwd = df.confirmed.ewm(span=3)\n",
    "# fig = plt.figure(figsize=(12,8))\n",
    "# plt.plot(df.confirmed)\n",
    "# plt.plot(fwd.mean())\n",
    "# plt.yscale('log')"
   ]
  },
  {
   "cell_type": "markdown",
   "metadata": {},
   "source": [
    "# Search p, d and q parameters"
   ]
  },
  {
   "cell_type": "code",
   "execution_count": 64,
   "metadata": {},
   "outputs": [
    {
     "name": "stdout",
     "output_type": "stream",
     "text": [
      "(0, 0, 0) 3.841011283298723\n",
      "(0, 0, 1) 1.9891474052075206\n",
      "(0, 1, 0) 0.20267421082095888\n",
      "(0, 1, 1) 0.1619681515000243\n",
      "(0, 2, 0) 0.12848950460975458\n",
      "(0, 2, 1) 0.13009930407275658\n",
      "(1, 0, 0) 0.3328516961085741\n",
      "(1, 1, 0) 0.14022945988053057\n",
      "(1, 1, 1) 0.1410236238564893\n",
      "(1, 2, 0) 0.1292203922879019\n"
     ]
    },
    {
     "name": "stderr",
     "output_type": "stream",
     "text": [
      "/Users/sumedho/anaconda3/lib/python3.7/site-packages/statsmodels/base/model.py:492: HessianInversionWarning: Inverting hessian failed, no bse or cov_params available\n",
      "  'available', HessianInversionWarning)\n",
      "/Users/sumedho/anaconda3/lib/python3.7/site-packages/statsmodels/base/model.py:512: ConvergenceWarning: Maximum Likelihood optimization failed to converge. Check mle_retvals\n",
      "  \"Check mle_retvals\", ConvergenceWarning)\n"
     ]
    },
    {
     "name": "stdout",
     "output_type": "stream",
     "text": [
      "(2, 0, 0) 0.22313569065275374\n",
      "(2, 1, 0) 0.1403800061845298\n",
      "(2, 1, 1) 0.1405730511418991\n",
      "(2, 2, 0) 0.13033457073850666\n",
      "(2, 2, 1) 0.13027230236216333\n",
      "(3, 0, 0) 0.22273329132931963\n"
     ]
    },
    {
     "name": "stderr",
     "output_type": "stream",
     "text": [
      "/Users/sumedho/anaconda3/lib/python3.7/site-packages/statsmodels/base/model.py:492: HessianInversionWarning: Inverting hessian failed, no bse or cov_params available\n",
      "  'available', HessianInversionWarning)\n"
     ]
    },
    {
     "name": "stdout",
     "output_type": "stream",
     "text": [
      "(3, 1, 0) 0.13931891591665152\n",
      "(3, 1, 1) 0.1392517104274642\n",
      "(3, 2, 0) 0.1302496874645476\n",
      "(3, 2, 1) 0.1303209304968989\n",
      "(4, 0, 0) 78.69957497626666\n"
     ]
    },
    {
     "name": "stderr",
     "output_type": "stream",
     "text": [
      "/Users/sumedho/anaconda3/lib/python3.7/site-packages/statsmodels/base/model.py:492: HessianInversionWarning: Inverting hessian failed, no bse or cov_params available\n",
      "  'available', HessianInversionWarning)\n"
     ]
    },
    {
     "name": "stdout",
     "output_type": "stream",
     "text": [
      "(4, 1, 0) 0.13930698887165766\n",
      "(4, 1, 1) 0.13951261393645237\n",
      "(4, 2, 0) 0.1301482533726589\n",
      "(4, 2, 1) 0.13061665926521124\n"
     ]
    },
    {
     "name": "stderr",
     "output_type": "stream",
     "text": [
      "/Users/sumedho/anaconda3/lib/python3.7/site-packages/statsmodels/base/model.py:492: HessianInversionWarning: Inverting hessian failed, no bse or cov_params available\n",
      "  'available', HessianInversionWarning)\n",
      "/Users/sumedho/anaconda3/lib/python3.7/site-packages/statsmodels/base/model.py:512: ConvergenceWarning: Maximum Likelihood optimization failed to converge. Check mle_retvals\n",
      "  \"Check mle_retvals\", ConvergenceWarning)\n"
     ]
    },
    {
     "name": "stdout",
     "output_type": "stream",
     "text": [
      "(5, 0, 0) 0.2220677174926493\n"
     ]
    },
    {
     "name": "stderr",
     "output_type": "stream",
     "text": [
      "/Users/sumedho/anaconda3/lib/python3.7/site-packages/statsmodels/base/model.py:492: HessianInversionWarning: Inverting hessian failed, no bse or cov_params available\n",
      "  'available', HessianInversionWarning)\n",
      "/Users/sumedho/anaconda3/lib/python3.7/site-packages/statsmodels/base/model.py:512: ConvergenceWarning: Maximum Likelihood optimization failed to converge. Check mle_retvals\n",
      "  \"Check mle_retvals\", ConvergenceWarning)\n"
     ]
    },
    {
     "name": "stdout",
     "output_type": "stream",
     "text": [
      "(5, 0, 1) 0.22182854109536265\n",
      "(5, 1, 0) 0.13976133785849998\n",
      "(5, 1, 1) 0.13984442613425116\n",
      "(5, 2, 0) 0.13024065864550902\n"
     ]
    },
    {
     "name": "stderr",
     "output_type": "stream",
     "text": [
      "/Users/sumedho/anaconda3/lib/python3.7/site-packages/statsmodels/base/model.py:492: HessianInversionWarning: Inverting hessian failed, no bse or cov_params available\n",
      "  'available', HessianInversionWarning)\n"
     ]
    },
    {
     "name": "stdout",
     "output_type": "stream",
     "text": [
      "(5, 2, 1) 0.13010890370381484\n"
     ]
    },
    {
     "name": "stderr",
     "output_type": "stream",
     "text": [
      "/Users/sumedho/anaconda3/lib/python3.7/site-packages/statsmodels/base/model.py:492: HessianInversionWarning: Inverting hessian failed, no bse or cov_params available\n",
      "  'available', HessianInversionWarning)\n",
      "/Users/sumedho/anaconda3/lib/python3.7/site-packages/statsmodels/base/model.py:512: ConvergenceWarning: Maximum Likelihood optimization failed to converge. Check mle_retvals\n",
      "  \"Check mle_retvals\", ConvergenceWarning)\n"
     ]
    },
    {
     "name": "stdout",
     "output_type": "stream",
     "text": [
      "(6, 0, 0) 0.22236739327664168\n"
     ]
    },
    {
     "name": "stderr",
     "output_type": "stream",
     "text": [
      "/Users/sumedho/anaconda3/lib/python3.7/site-packages/statsmodels/base/model.py:492: HessianInversionWarning: Inverting hessian failed, no bse or cov_params available\n",
      "  'available', HessianInversionWarning)\n"
     ]
    },
    {
     "name": "stdout",
     "output_type": "stream",
     "text": [
      "(6, 0, 1) 0.21954923064967602\n",
      "(6, 1, 0) 0.14001842981328236\n",
      "(6, 1, 1) 0.14024418871074457\n",
      "(6, 2, 0) 0.1159383428723685\n",
      "(6, 2, 1) 0.11477262893544646\n"
     ]
    }
   ],
   "source": [
    "data = df.confirmed\n",
    "\n",
    "# add period value to datetime index\n",
    "data.index = data.index.to_period('d')\n",
    "\n",
    "p = range(0, 7)\n",
    "d = range(0, 3)\n",
    "q = range(0, 2)\n",
    "pdq = list(itertools.product(p, d, q))\n",
    "\n",
    "for order in pdq:\n",
    "    try:\n",
    "        model = sm.tsa.ARIMA(dd.log_confirmed, order = order)\n",
    "        results = model.fit()\n",
    "        print(order, results.resid.max())\n",
    "    except:\n",
    "        continue"
   ]
  },
  {
   "cell_type": "code",
   "execution_count": 65,
   "metadata": {},
   "outputs": [
    {
     "name": "stdout",
     "output_type": "stream",
     "text": [
      "==========================================================================================\n",
      "                             coef    std err          z      P>|z|      [0.025      0.975]\n",
      "------------------------------------------------------------------------------------------\n",
      "const                     -0.0014      0.004     -0.341      0.735      -0.010       0.007\n",
      "ar.L1.D2.log_confirmed     0.2802      0.325      0.862      0.394      -0.357       0.918\n",
      "ar.L2.D2.log_confirmed    -0.2649      0.151     -1.752      0.087      -0.561       0.031\n",
      "ar.L3.D2.log_confirmed     0.1697      0.178      0.954      0.345      -0.179       0.518\n",
      "ar.L4.D2.log_confirmed    -0.0329      0.151     -0.218      0.829      -0.329       0.263\n",
      "ar.L5.D2.log_confirmed    -0.0950      0.147     -0.648      0.521      -0.382       0.192\n",
      "ar.L6.D2.log_confirmed    -0.2266      0.168     -1.347      0.185      -0.556       0.103\n",
      "ma.L1.D2.log_confirmed    -0.4859      0.313     -1.554      0.128      -1.099       0.127\n",
      "==========================================================================================\n",
      "0.11477262893544646\n"
     ]
    }
   ],
   "source": [
    "model = sm.tsa.ARIMA(dd.log_confirmed,\n",
    "                                 order = (6, 2, 1))\n",
    "\n",
    "results = model.fit()\n",
    "print(results.summary().tables[1])\n",
    "print(results.resid.max())"
   ]
  },
  {
   "cell_type": "code",
   "execution_count": 66,
   "metadata": {},
   "outputs": [
    {
     "data": {
      "text/plain": [
       "0.11477262893544646"
      ]
     },
     "execution_count": 66,
     "metadata": {},
     "output_type": "execute_result"
    }
   ],
   "source": [
    "results.resid.max()"
   ]
  },
  {
   "cell_type": "code",
   "execution_count": 87,
   "metadata": {},
   "outputs": [
    {
     "data": {
      "image/png": "[encoded data removed]",
      "text/plain": [
       "<Figure size 864x576 with 2 Axes>"
      ]
     },
     "metadata": {
      "needs_background": "light"
     },
     "output_type": "display_data"
    }
   ],
   "source": [
    "fig = plt.figure(figsize=(12,8))\n",
    "ax1 = fig.add_subplot(211)\n",
    "fig = sm.graphics.tsa.plot_acf(dd.confirmed, lags=40, ax=ax1) # \n",
    "ax2 = fig.add_subplot(212)\n",
    "fig = sm.graphics.tsa.plot_pacf(dd.confirmed, lags=40, ax=ax2)# , lags=40"
   ]
  },
  {
   "cell_type": "code",
   "execution_count": 67,
   "metadata": {},
   "outputs": [
    {
     "name": "stdout",
     "output_type": "stream",
     "text": [
      "               0\n",
      "count  51.000000\n",
      "mean   -0.001677\n",
      "std     0.064245\n",
      "min    -0.177721\n",
      "25%    -0.047526\n",
      "50%     0.005789\n",
      "75%     0.042158\n",
      "max     0.114773\n"
     ]
    },
    {
     "data": {
      "image/png": "[encoded data removed]",
      "text/plain": [
       "<Figure size 432x288 with 1 Axes>"
      ]
     },
     "metadata": {
      "needs_background": "light"
     },
     "output_type": "display_data"
    },
    {
     "data": {
      "image/png": "[encoded data removed]",
      "text/plain": [
       "<Figure size 432x288 with 1 Axes>"
      ]
     },
     "metadata": {
      "needs_background": "light"
     },
     "output_type": "display_data"
    }
   ],
   "source": [
    "residuals = pd.DataFrame(results.resid)\n",
    "residuals.plot()\n",
    "#pyplot.show()\n",
    "residuals.plot(kind='kde')\n",
    "#pyplot.show()\n",
    "print(residuals.describe())"
   ]
  },
  {
   "cell_type": "code",
   "execution_count": 100,
   "metadata": {},
   "outputs": [
    {
     "name": "stdout",
     "output_type": "stream",
     "text": [
      "p = 0.582435\n",
      "Normal distribution\n"
     ]
    }
   ],
   "source": [
    "from scipy import stats\n",
    "\n",
    "chi, p = stats.normaltest(results.resid)\n",
    "\n",
    "alpha = 0.055\n",
    "print(\"p = {:g}\".format(p))\n",
    "if p < alpha:\n",
    "    print(\"Not normal distribution\")\n",
    "else:\n",
    "    print(\"Normal distribution\")"
   ]
  },
  {
   "cell_type": "code",
   "execution_count": 68,
   "metadata": {},
   "outputs": [
    {
     "data": {
      "text/plain": [
       "(array([8.44506441, 8.55760682, 8.65720249, 8.75978113, 8.87886779,\n",
       "        9.00145516, 9.10799607, 9.20880416, 9.31326989, 9.41350736]),\n",
       " array([0.06248604, 0.12835411, 0.19111176, 0.26214617, 0.34269283,\n",
       "        0.4252682 , 0.50282975, 0.57972247, 0.66005268, 0.74211288]),\n",
       " array([[ 8.32259402,  8.56753479],\n",
       "        [ 8.30603738,  8.80917625],\n",
       "        [ 8.28263032,  9.03177466],\n",
       "        [ 8.24598408,  9.27357818],\n",
       "        [ 8.20720219,  9.55053338],\n",
       "        [ 8.16794481,  9.83496551],\n",
       "        [ 8.12246787, 10.09352426],\n",
       "        [ 8.072569  , 10.34503933],\n",
       "        [ 8.01959042, 10.60694937],\n",
       "        [ 7.95899284, 10.86802188]]))"
      ]
     },
     "execution_count": 68,
     "metadata": {},
     "output_type": "execute_result"
    }
   ],
   "source": [
    "results.forecast(10)"
   ]
  },
  {
   "cell_type": "code",
   "execution_count": 96,
   "metadata": {},
   "outputs": [
    {
     "data": {
      "text/plain": [
       "array([[ 4115.82269588,  5258.15137246],\n",
       "       [ 4048.23953767,  6695.40167565],\n",
       "       [ 3954.58253715,  8364.69092458],\n",
       "       [ 3812.28521981, 10652.80142682],\n",
       "       [ 3667.26777704, 14052.18784794],\n",
       "       [ 3526.08973383, 18675.45746651],\n",
       "       [ 3369.32556332, 24185.87982023],\n",
       "       [ 3205.32574133, 31102.37087942],\n",
       "       [ 3039.93199129, 40414.72049825],\n",
       "       [ 2861.189824  , 52471.31279295]])"
      ]
     },
     "execution_count": 96,
     "metadata": {},
     "output_type": "execute_result"
    }
   ],
   "source": [
    "np.exp(results.forecast(10)[2])"
   ]
  },
  {
   "cell_type": "code",
   "execution_count": 79,
   "metadata": {},
   "outputs": [
    {
     "name": "stdout",
     "output_type": "stream",
     "text": [
      "Day: 1 Forecast: 4652\n",
      "Day: 2 Forecast: 5206\n",
      "Day: 3 Forecast: 5751\n",
      "Day: 4 Forecast: 6373\n",
      "Day: 5 Forecast: 7179\n",
      "Day: 6 Forecast: 8115\n",
      "Day: 7 Forecast: 9027\n",
      "Day: 8 Forecast: 9985\n",
      "Day: 9 Forecast: 11084\n",
      "Day: 10 Forecast: 12253\n"
     ]
    }
   ],
   "source": [
    "for idx, predicted_confirmed in enumerate(np.exp(results.forecast(10)[0])):\n",
    "    print('Day: {0} Forecast: {1:.0f}'.format(idx + 1, predicted_confirmed))"
   ]
  },
  {
   "cell_type": "code",
   "execution_count": 74,
   "metadata": {},
   "outputs": [
    {
     "data": {
      "text/plain": [
       "[<matplotlib.lines.Line2D at 0x1c211bc850>]"
      ]
     },
     "execution_count": 74,
     "metadata": {},
     "output_type": "execute_result"
    },
    {
     "data": {
      "image/png": "[encoded data removed]",
      "text/plain": [
       "<Figure size 864x576 with 1 Axes>"
      ]
     },
     "metadata": {
      "needs_background": "light"
     },
     "output_type": "display_data"
    }
   ],
   "source": [
    "fig = plt.figure(figsize=(12,8))\n",
    "plt.plot(df.confirmed)\n",
    "dates = pd.date_range('2020-03-31', periods=10, freq='d')\n",
    "dates\n",
    "plt.plot(dates,np.exp(results.forecast(10)[0]))\n",
    "#plt.yscale('log')"
   ]
  },
  {
   "cell_type": "code",
   "execution_count": 81,
   "metadata": {},
   "outputs": [
    {
     "data": {
      "text/plain": [
       "3385"
      ]
     },
     "execution_count": 81,
     "metadata": {},
     "output_type": "execute_result"
    }
   ],
   "source": [
    "97919 - 94534"
   ]
  }
 ],
 "metadata": {
  "kernelspec": {
   "display_name": "Python 3",
   "language": "python",
   "name": "python3"
  },
  "language_info": {
   "codemirror_mode": {
    "name": "ipython",
    "version": 3
   },
   "file_extension": ".py",
   "mimetype": "text/x-python",
   "name": "python",
   "nbconvert_exporter": "python",
   "pygments_lexer": "ipython3",
   "version": "3.7.4"
  }
 },
 "nbformat": 4,
 "nbformat_minor": 2
}
